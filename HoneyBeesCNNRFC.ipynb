{
 "cells": [
  {
   "cell_type": "markdown",
   "metadata": {},
   "source": [
    "first of all; importing the images, i'm using imread from scipy."
   ]
  },
  {
   "cell_type": "code",
   "execution_count": 1,
   "metadata": {},
   "outputs": [
    {
     "name": "stderr",
     "output_type": "stream",
     "text": [
      "/home/tim/anaconda3/lib/python3.6/site-packages/ipykernel_launcher.py:12: DeprecationWarning: `imread` is deprecated!\n",
      "`imread` is deprecated in SciPy 1.0.0, and will be removed in 1.2.0.\n",
      "Use ``imageio.imread`` instead.\n",
      "  if sys.path[0] == '':\n"
     ]
    }
   ],
   "source": [
    "from __future__ import print_function\n",
    "from scipy.misc import imread\n",
    "import glob\n",
    "import numpy as np\n",
    "from os import path, walk\n",
    "hook = True\n",
    "imagesList = []\n",
    "pathList = []\n",
    "\n",
    "pathbase = \"../bee_imgs/bee_imgs\"\n",
    "for impath in glob.glob(path.join(pathbase, \"*.png\")):\n",
    "    image = imread(impath, mode='RGB')\n",
    "    image = np.divide(image, 255)\n",
    "    imagesList.append(image.astype(np.float64))\n",
    "    filename = impath[impath.rfind('/')+1:]\n",
    "    pathList.append(filename)\n"
   ]
  },
  {
   "cell_type": "code",
   "execution_count": null,
   "metadata": {},
   "outputs": [],
   "source": []
  },
  {
   "cell_type": "markdown",
   "metadata": {},
   "source": [
    "imagesList now holds all the images of the bees, pathList holds the corresponding path names. let's check if they have the same size;"
   ]
  },
  {
   "cell_type": "code",
   "execution_count": 2,
   "metadata": {},
   "outputs": [
    {
     "name": "stdout",
     "output_type": "stream",
     "text": [
      "5172\n",
      "5172\n"
     ]
    }
   ],
   "source": [
    "print(len(pathList))\n",
    "print(len(imagesList))"
   ]
  },
  {
   "cell_type": "markdown",
   "metadata": {},
   "source": [
    "Great! So no problems there. Next up is some preprocessing, as the data is heavily imbalanced. For this we'll need the supplied csv file that holds the classes. pandas has a nifty function to read csv's directly to a dataframe, which we'll use to get our classnames into a dictionary with their corresponding file names, that way we can easily link them to the images later on."
   ]
  },
  {
   "cell_type": "code",
   "execution_count": 3,
   "metadata": {},
   "outputs": [],
   "source": [
    "import pandas as pd\n",
    "beeMetaData = pd.read_csv('../bee_data.csv')\n",
    "beeTypes = dict(zip(beeMetaData.file, beeMetaData.health))"
   ]
  },
  {
   "cell_type": "markdown",
   "metadata": {},
   "source": [
    "As can be seen below, this is the current distribution of the dataset. we're trimming off 'missing queen' and scaling 'healthy' down to a round 400. "
   ]
  },
  {
   "cell_type": "code",
   "execution_count": 4,
   "metadata": {},
   "outputs": [
    {
     "name": "stdout",
     "output_type": "stream",
     "text": [
      "Varroa, Small Hive Beetles 472\n",
      "few varrao, hive beetles 579\n",
      "ant problems 457\n",
      "healthy 3384\n",
      "missing queen 29\n",
      "hive being robbed 251\n"
     ]
    }
   ],
   "source": [
    "labels = set(beeTypes.values())\n",
    "for i in labels:\n",
    "    print(i, sum(value == i for value in beeTypes.values()))"
   ]
  },
  {
   "cell_type": "code",
   "execution_count": 5,
   "metadata": {},
   "outputs": [],
   "source": [
    "healthybees = []\n",
    "for k,v in beeTypes.items():\n",
    "     if v == \"healthy\" and len(healthybees) < 400:\n",
    "        healthybees.append(k)\n",
    "\n",
    "remlist = []\n",
    "for k,v in beeTypes.items():\n",
    "    if v == \"missing queen\":\n",
    "        remlist.append(k)\n",
    "    if v == \"healthy\" and k not in healthybees:\n",
    "        remlist.append(k)\n",
    "for remove in remlist:\n",
    "    del beeTypes[remove]"
   ]
  },
  {
   "cell_type": "markdown",
   "metadata": {},
   "source": [
    "all done! let's take a look at the distribution now;"
   ]
  },
  {
   "cell_type": "code",
   "execution_count": 6,
   "metadata": {},
   "outputs": [
    {
     "name": "stdout",
     "output_type": "stream",
     "text": [
      "Varroa, Small Hive Beetles 472\n",
      "few varrao, hive beetles 579\n",
      "ant problems 457\n",
      "healthy 400\n",
      "hive being robbed 251\n"
     ]
    }
   ],
   "source": [
    "labels = set(beeTypes.values())\n",
    "for i in labels:\n",
    "    print(i, sum(value == i for value in beeTypes.values()))"
   ]
  },
  {
   "cell_type": "markdown",
   "metadata": {},
   "source": [
    "now that that is out of the way, let's drop the images that we don't want from the set"
   ]
  },
  {
   "cell_type": "code",
   "execution_count": 7,
   "metadata": {},
   "outputs": [
    {
     "name": "stdout",
     "output_type": "stream",
     "text": [
      "3013\n"
     ]
    }
   ],
   "source": [
    "counter = 0\n",
    "to_remove = []\n",
    "for i in pathList:\n",
    "    if i in beeTypes.keys():\n",
    "        pass\n",
    "    else:\n",
    "        to_remove.append(counter)\n",
    "    counter += 1\n",
    "\n",
    "print(len(to_remove))\n",
    "\n",
    "#removing indices from list (in reverse as not to throw off index order)\n",
    "if hook == True:\n",
    "    for index in sorted(to_remove, reverse=True):\n",
    "        del imagesList[index]\n",
    "        del pathList[index]\n",
    "    hook = False"
   ]
  },
  {
   "cell_type": "code",
   "execution_count": 8,
   "metadata": {},
   "outputs": [
    {
     "name": "stdout",
     "output_type": "stream",
     "text": [
      "2159\n",
      "2159\n"
     ]
    }
   ],
   "source": [
    "print(len(imagesList))\n",
    "print(len(beeTypes.values()))"
   ]
  },
  {
   "cell_type": "markdown",
   "metadata": {},
   "source": [
    "now that we are left with only the values we want, we can resize all images in the set. "
   ]
  },
  {
   "cell_type": "code",
   "execution_count": 9,
   "metadata": {},
   "outputs": [
    {
     "data": {
      "text/plain": [
       "<matplotlib.image.AxesImage at 0x7f2be8e976d8>"
      ]
     },
     "execution_count": 9,
     "metadata": {},
     "output_type": "execute_result"
    },
    {
     "data": {
      "image/png": "[encoded data removed]",
      "text/plain": [
       "<Figure size 432x288 with 1 Axes>"
      ]
     },
     "metadata": {
      "needs_background": "light"
     },
     "output_type": "display_data"
    }
   ],
   "source": [
    "import cv2\n",
    "resized = []\n",
    "for i in imagesList:\n",
    "    resized.append(cv2.resize(i,dsize=(70,70),interpolation=cv2.INTER_NEAREST))\n",
    "#also, let's take a look at the bee to see if it's still in good shape\n",
    "import matplotlib.pyplot as plt\n",
    "%matplotlib inline\n",
    "plt.imshow(resized[9])"
   ]
  },
  {
   "cell_type": "markdown",
   "metadata": {},
   "source": [
    "he's a bit snug, but the network won't care. now, let's get to some cnn stuff."
   ]
  },
  {
   "cell_type": "code",
   "execution_count": 10,
   "metadata": {},
   "outputs": [],
   "source": [
    "import datetime\n",
    "\n",
    "shapex = 70\n",
    "shapey = 70\n",
    "channels = 3\n",
    "stepsNN = 50\n",
    "\n",
    "#defining a list outside the function so we can log the tf.argmax output without it getting lost to \n",
    "#the tensorflow clutter.\n",
    "#It will hold the predictions for each iteration of the \n",
    "#kfold, which means we can use it for a classification report later\n",
    "outputNN = []\n",
    "\n",
    "def cnn_fn(features, labels, mode):\n",
    "    # input (numpy array filled with images with shape: shapex, shapey)\n",
    "    input_layer = tf.reshape(features[\"x\"], [-1, shapex, shapey, channels])\n",
    "\n",
    "    # convolutional layer 1 (kernel size = 5x5)\n",
    "    convo1 = tf.layers.conv2d(\n",
    "        inputs=input_layer,\n",
    "        filters=100,\n",
    "        kernel_size=[3, 3],\n",
    "        padding=\"same\",\n",
    "        activation=tf.nn.relu\n",
    "    )\n",
    "\n",
    "    # pooling layer 1; 50 percent image size reduction\n",
    "    pool1 = tf.layers.max_pooling2d(inputs=convo1, pool_size=[2, 2], strides=2 )\n",
    "\n",
    "    convo2 = tf.layers.conv2d(\n",
    "        inputs=pool1,\n",
    "        filters=200,\n",
    "        kernel_size=[3, 3],\n",
    "        padding=\"same\",\n",
    "        activation=tf.nn.relu\n",
    "    )\n",
    "\n",
    "    pool2 = tf.layers.max_pooling2d(inputs=convo2, pool_size=[2, 2], strides=2)\n",
    "\n",
    "    flat = tf.reshape(pool2, [-1, int(shapex/4) * int(shapey/4) * 200])\n",
    "\n",
    "    dense = tf.layers.dense(inputs=flat, units=2000, activation=tf.nn.relu)\n",
    "\n",
    "    # small dropout\n",
    "    drop = tf.layers.dropout(\n",
    "        inputs=dense, rate=0.2,training=mode == tf.estimator.ModeKeys.TRAIN\n",
    "    )\n",
    "\n",
    "    # five classes\n",
    "    logits = tf.layers.dense(inputs=drop, units=5)\n",
    "\n",
    "    pred = {\n",
    "        \"classes\" : tf.argmax(input=logits, axis=1),\n",
    "        \"probabilities\" : tf.nn.softmax(logits, name=\"softmaxt\")\n",
    "    }\n",
    "    #interM = tf.argmax(input=logits, axis=1)\n",
    "    #print(interM)\n",
    "    if mode == tf.estimator.ModeKeys.PREDICT:\n",
    "        return tf.estimator.EstimatorSpec(mode=mode, predictions=pred)\n",
    "\n",
    "        # Calculate Loss (for both TRAIN and EVAL modes)\n",
    "    loss = tf.losses.sparse_softmax_cross_entropy(labels=labels, logits=logits)\n",
    "\n",
    "    # Configure the Training Op (for TRAIN mode)\n",
    "    if mode == tf.estimator.ModeKeys.TRAIN:\n",
    "        optimizer = tf.train.AdamOptimizer(learning_rate=0.003)\n",
    "        train_op = optimizer.minimize(\n",
    "            loss=loss,\n",
    "            global_step=tf.train.get_global_step())\n",
    "        return tf.estimator.EstimatorSpec(mode=mode, loss=loss, train_op=train_op)\n",
    "\n",
    "    # Add evaluation metrics (for EVAL mode)\n",
    "    eval_metric_ops = {\n",
    "        \"accuracy\": tf.metrics.accuracy(\n",
    "            labels=labels, predictions=pred[\"classes\"])}\n",
    "    \n",
    "    #confusion = tf.confusion_matrix(labels=labels, predictions=pred[\"classes\"],num_classes=5)\n",
    "    \n",
    "    #print('Confusion Matrix: \\n\\n', tf.Tensor.eval(confusion,feed_dict=None,session=sess))\n",
    "    \n",
    "\n",
    "    return tf.estimator.EstimatorSpec(\n",
    "        mode=mode, loss=loss, eval_metric_ops=eval_metric_ops)\n",
    "\n",
    "def runNN(train_data, eval_data, train_labels, eval_labels):\n",
    "    cnn_classifier = tf.estimator.Estimator(model_fn=cnn_fn,model_dir='models/bees')\n",
    "\n",
    "    tensors_to_log = {\"probabilities\":\"softmax_tensor\"}\n",
    "    logging_hook = tf.train.LoggingTensorHook(\n",
    "    tensors=tensors_to_log, every_n_iter=50)\n",
    "\n",
    "    train_input_fn = tf.estimator.inputs.numpy_input_fn(\n",
    "        x={\"x\":train_data},\n",
    "        y=train_labels,\n",
    "        batch_size=100,\n",
    "        num_epochs=20,\n",
    "        shuffle=True)\n",
    "    start_time = time.time()\n",
    "    cnn_classifier.train(input_fn=train_input_fn,steps=stepsNN)\n",
    "    print(\"Time taken to train: \"+str((time.time()-start_time)))\n",
    "    eval_input_fn = tf.estimator.inputs.numpy_input_fn(\n",
    "        x={\"x\":eval_data},\n",
    "        y=eval_labels,\n",
    "        num_epochs=1,\n",
    "        shuffle=False)\n",
    "    eval_results = cnn_classifier.evaluate(input_fn=eval_input_fn)\n",
    "    print(eval_results)\n",
    "    stopMadness = cnn_classifier.predict(input_fn=eval_input_fn)\n",
    "    for x,y in enumerate(stopMadness):\n",
    "        outputNN.append(y[\"classes\"])\n",
    "        "
   ]
  },
  {
   "cell_type": "markdown",
   "metadata": {},
   "source": [
    "a simple CNN, now for the input... "
   ]
  },
  {
   "cell_type": "code",
   "execution_count": 11,
   "metadata": {},
   "outputs": [],
   "source": [
    "from operator import itemgetter \n",
    "import tensorflow as tf\n",
    "import time\n",
    "from sklearn.model_selection import KFold"
   ]
  },
  {
   "cell_type": "code",
   "execution_count": 29,
   "metadata": {},
   "outputs": [
    {
     "name": "stdout",
     "output_type": "stream",
     "text": [
      "final eval!\n",
      "INFO:tensorflow:Using default config.\n",
      "INFO:tensorflow:Using config: {'_model_dir': 'models/bees', '_tf_random_seed': None, '_save_summary_steps': 100, '_save_checkpoints_steps': None, '_save_checkpoints_secs': 600, '_session_config': allow_soft_placement: true\n",
      "graph_options {\n",
      "  rewrite_options {\n",
      "    meta_optimizer_iterations: ONE\n",
      "  }\n",
      "}\n",
      ", '_keep_checkpoint_max': 5, '_keep_checkpoint_every_n_hours': 10000, '_log_step_count_steps': 100, '_train_distribute': None, '_device_fn': None, '_protocol': None, '_eval_distribute': None, '_experimental_distribute': None, '_service': None, '_cluster_spec': <tensorflow.python.training.server_lib.ClusterSpec object at 0x7f2bb4ba7a90>, '_task_type': 'worker', '_task_id': 0, '_global_id_in_cluster': 0, '_master': '', '_evaluation_master': '', '_is_chief': True, '_num_ps_replicas': 0, '_num_worker_replicas': 1}\n",
      "INFO:tensorflow:Calling model_fn.\n",
      "INFO:tensorflow:Done calling model_fn.\n",
      "INFO:tensorflow:Create CheckpointSaverHook.\n",
      "INFO:tensorflow:Graph was finalized.\n",
      "INFO:tensorflow:Running local_init_op.\n",
      "INFO:tensorflow:Done running local_init_op.\n",
      "INFO:tensorflow:Saving checkpoints for 0 into models/bees/model.ckpt.\n",
      "INFO:tensorflow:loss = 1.6063439846038818, step = 1\n",
      "INFO:tensorflow:Saving checkpoints for 50 into models/bees/model.ckpt.\n",
      "INFO:tensorflow:Loss for final step: 0.6142284870147705.\n",
      "Time taken to train: 252.86482691764832\n",
      "INFO:tensorflow:Calling model_fn.\n",
      "INFO:tensorflow:Done calling model_fn.\n",
      "INFO:tensorflow:Starting evaluation at 2019-03-28-12:44:06\n",
      "INFO:tensorflow:Graph was finalized.\n",
      "INFO:tensorflow:Restoring parameters from models/bees/model.ckpt-50\n",
      "INFO:tensorflow:Running local_init_op.\n",
      "INFO:tensorflow:Done running local_init_op.\n",
      "INFO:tensorflow:Finished evaluation at 2019-03-28-12:44:14\n",
      "INFO:tensorflow:Saving dict for global step 50: accuracy = 0.7314815, global_step = 50, loss = 0.59878117\n",
      "INFO:tensorflow:Saving 'checkpoint_path' summary for global step 50: models/bees/model.ckpt-50\n",
      "{'accuracy': 0.7314815, 'loss': 0.59878117, 'global_step': 50}\n",
      "INFO:tensorflow:Calling model_fn.\n",
      "INFO:tensorflow:Done calling model_fn.\n",
      "INFO:tensorflow:Graph was finalized.\n",
      "INFO:tensorflow:Restoring parameters from models/bees/model.ckpt-50\n",
      "INFO:tensorflow:Running local_init_op.\n",
      "INFO:tensorflow:Done running local_init_op.\n",
      "final eval!\n",
      "INFO:tensorflow:Using default config.\n",
      "INFO:tensorflow:Using config: {'_model_dir': 'models/bees', '_tf_random_seed': None, '_save_summary_steps': 100, '_save_checkpoints_steps': None, '_save_checkpoints_secs': 600, '_session_config': allow_soft_placement: true\n",
      "graph_options {\n",
      "  rewrite_options {\n",
      "    meta_optimizer_iterations: ONE\n",
      "  }\n",
      "}\n",
      ", '_keep_checkpoint_max': 5, '_keep_checkpoint_every_n_hours': 10000, '_log_step_count_steps': 100, '_train_distribute': None, '_device_fn': None, '_protocol': None, '_eval_distribute': None, '_experimental_distribute': None, '_service': None, '_cluster_spec': <tensorflow.python.training.server_lib.ClusterSpec object at 0x7f2bb57912e8>, '_task_type': 'worker', '_task_id': 0, '_global_id_in_cluster': 0, '_master': '', '_evaluation_master': '', '_is_chief': True, '_num_ps_replicas': 0, '_num_worker_replicas': 1}\n",
      "INFO:tensorflow:Calling model_fn.\n",
      "INFO:tensorflow:Done calling model_fn.\n",
      "INFO:tensorflow:Create CheckpointSaverHook.\n",
      "INFO:tensorflow:Graph was finalized.\n",
      "INFO:tensorflow:Restoring parameters from models/bees/model.ckpt-50\n",
      "INFO:tensorflow:Running local_init_op.\n",
      "INFO:tensorflow:Done running local_init_op.\n",
      "INFO:tensorflow:Saving checkpoints for 50 into models/bees/model.ckpt.\n",
      "INFO:tensorflow:loss = 0.7043942213058472, step = 51\n",
      "INFO:tensorflow:Saving checkpoints for 100 into models/bees/model.ckpt.\n",
      "INFO:tensorflow:Loss for final step: 0.46769851446151733.\n",
      "Time taken to train: 281.7946059703827\n",
      "INFO:tensorflow:Calling model_fn.\n",
      "INFO:tensorflow:Done calling model_fn.\n",
      "INFO:tensorflow:Starting evaluation at 2019-03-28-12:49:03\n",
      "INFO:tensorflow:Graph was finalized.\n",
      "INFO:tensorflow:Restoring parameters from models/bees/model.ckpt-100\n",
      "INFO:tensorflow:Running local_init_op.\n",
      "INFO:tensorflow:Done running local_init_op.\n",
      "INFO:tensorflow:Finished evaluation at 2019-03-28-12:49:11\n",
      "INFO:tensorflow:Saving dict for global step 100: accuracy = 0.8217593, global_step = 100, loss = 0.4289949\n",
      "INFO:tensorflow:Saving 'checkpoint_path' summary for global step 100: models/bees/model.ckpt-100\n",
      "{'accuracy': 0.8217593, 'loss': 0.4289949, 'global_step': 100}\n",
      "INFO:tensorflow:Calling model_fn.\n",
      "INFO:tensorflow:Done calling model_fn.\n",
      "INFO:tensorflow:Graph was finalized.\n",
      "INFO:tensorflow:Restoring parameters from models/bees/model.ckpt-100\n",
      "INFO:tensorflow:Running local_init_op.\n",
      "INFO:tensorflow:Done running local_init_op.\n",
      "final eval!\n",
      "INFO:tensorflow:Using default config.\n",
      "INFO:tensorflow:Using config: {'_model_dir': 'models/bees', '_tf_random_seed': None, '_save_summary_steps': 100, '_save_checkpoints_steps': None, '_save_checkpoints_secs': 600, '_session_config': allow_soft_placement: true\n",
      "graph_options {\n",
      "  rewrite_options {\n",
      "    meta_optimizer_iterations: ONE\n",
      "  }\n",
      "}\n",
      ", '_keep_checkpoint_max': 5, '_keep_checkpoint_every_n_hours': 10000, '_log_step_count_steps': 100, '_train_distribute': None, '_device_fn': None, '_protocol': None, '_eval_distribute': None, '_experimental_distribute': None, '_service': None, '_cluster_spec': <tensorflow.python.training.server_lib.ClusterSpec object at 0x7f2bac43f470>, '_task_type': 'worker', '_task_id': 0, '_global_id_in_cluster': 0, '_master': '', '_evaluation_master': '', '_is_chief': True, '_num_ps_replicas': 0, '_num_worker_replicas': 1}\n",
      "INFO:tensorflow:Calling model_fn.\n",
      "INFO:tensorflow:Done calling model_fn.\n",
      "INFO:tensorflow:Create CheckpointSaverHook.\n",
      "INFO:tensorflow:Graph was finalized.\n",
      "INFO:tensorflow:Restoring parameters from models/bees/model.ckpt-100\n",
      "INFO:tensorflow:Running local_init_op.\n",
      "INFO:tensorflow:Done running local_init_op.\n",
      "INFO:tensorflow:Saving checkpoints for 100 into models/bees/model.ckpt.\n",
      "INFO:tensorflow:loss = 0.23530849814414978, step = 101\n",
      "INFO:tensorflow:Saving checkpoints for 150 into models/bees/model.ckpt.\n",
      "INFO:tensorflow:Loss for final step: 0.1963306963443756.\n",
      "Time taken to train: 303.27206206321716\n",
      "INFO:tensorflow:Calling model_fn.\n",
      "INFO:tensorflow:Done calling model_fn.\n",
      "INFO:tensorflow:Starting evaluation at 2019-03-28-12:54:22\n",
      "INFO:tensorflow:Graph was finalized.\n",
      "INFO:tensorflow:Restoring parameters from models/bees/model.ckpt-150\n",
      "INFO:tensorflow:Running local_init_op.\n",
      "INFO:tensorflow:Done running local_init_op.\n",
      "INFO:tensorflow:Finished evaluation at 2019-03-28-12:54:31\n",
      "INFO:tensorflow:Saving dict for global step 150: accuracy = 0.8611111, global_step = 150, loss = 0.3929385\n",
      "INFO:tensorflow:Saving 'checkpoint_path' summary for global step 150: models/bees/model.ckpt-150\n",
      "{'accuracy': 0.8611111, 'loss': 0.3929385, 'global_step': 150}\n",
      "INFO:tensorflow:Calling model_fn.\n",
      "INFO:tensorflow:Done calling model_fn.\n",
      "INFO:tensorflow:Graph was finalized.\n",
      "INFO:tensorflow:Restoring parameters from models/bees/model.ckpt-150\n",
      "INFO:tensorflow:Running local_init_op.\n",
      "INFO:tensorflow:Done running local_init_op.\n",
      "final eval!\n",
      "INFO:tensorflow:Using default config.\n",
      "INFO:tensorflow:Using config: {'_model_dir': 'models/bees', '_tf_random_seed': None, '_save_summary_steps': 100, '_save_checkpoints_steps': None, '_save_checkpoints_secs': 600, '_session_config': allow_soft_placement: true\n",
      "graph_options {\n",
      "  rewrite_options {\n",
      "    meta_optimizer_iterations: ONE\n",
      "  }\n",
      "}\n",
      ", '_keep_checkpoint_max': 5, '_keep_checkpoint_every_n_hours': 10000, '_log_step_count_steps': 100, '_train_distribute': None, '_device_fn': None, '_protocol': None, '_eval_distribute': None, '_experimental_distribute': None, '_service': None, '_cluster_spec': <tensorflow.python.training.server_lib.ClusterSpec object at 0x7f2bb5765358>, '_task_type': 'worker', '_task_id': 0, '_global_id_in_cluster': 0, '_master': '', '_evaluation_master': '', '_is_chief': True, '_num_ps_replicas': 0, '_num_worker_replicas': 1}\n",
      "INFO:tensorflow:Calling model_fn.\n",
      "INFO:tensorflow:Done calling model_fn.\n",
      "INFO:tensorflow:Create CheckpointSaverHook.\n",
      "INFO:tensorflow:Graph was finalized.\n",
      "INFO:tensorflow:Restoring parameters from models/bees/model.ckpt-150\n",
      "INFO:tensorflow:Running local_init_op.\n",
      "INFO:tensorflow:Done running local_init_op.\n"
     ]
    },
    {
     "name": "stdout",
     "output_type": "stream",
     "text": [
      "INFO:tensorflow:Saving checkpoints for 150 into models/bees/model.ckpt.\n",
      "INFO:tensorflow:loss = 0.23446330428123474, step = 151\n",
      "INFO:tensorflow:Saving checkpoints for 200 into models/bees/model.ckpt.\n",
      "INFO:tensorflow:Loss for final step: 0.1169973686337471.\n",
      "Time taken to train: 281.0172367095947\n",
      "INFO:tensorflow:Calling model_fn.\n",
      "INFO:tensorflow:Done calling model_fn.\n",
      "INFO:tensorflow:Starting evaluation at 2019-03-28-12:59:21\n",
      "INFO:tensorflow:Graph was finalized.\n",
      "INFO:tensorflow:Restoring parameters from models/bees/model.ckpt-200\n",
      "INFO:tensorflow:Running local_init_op.\n",
      "INFO:tensorflow:Done running local_init_op.\n",
      "INFO:tensorflow:Finished evaluation at 2019-03-28-12:59:28\n",
      "INFO:tensorflow:Saving dict for global step 200: accuracy = 0.8564815, global_step = 200, loss = 0.4178289\n",
      "INFO:tensorflow:Saving 'checkpoint_path' summary for global step 200: models/bees/model.ckpt-200\n",
      "{'accuracy': 0.8564815, 'loss': 0.4178289, 'global_step': 200}\n",
      "INFO:tensorflow:Calling model_fn.\n",
      "INFO:tensorflow:Done calling model_fn.\n",
      "INFO:tensorflow:Graph was finalized.\n",
      "INFO:tensorflow:Restoring parameters from models/bees/model.ckpt-200\n",
      "INFO:tensorflow:Running local_init_op.\n",
      "INFO:tensorflow:Done running local_init_op.\n",
      "final eval!\n",
      "INFO:tensorflow:Using default config.\n",
      "INFO:tensorflow:Using config: {'_model_dir': 'models/bees', '_tf_random_seed': None, '_save_summary_steps': 100, '_save_checkpoints_steps': None, '_save_checkpoints_secs': 600, '_session_config': allow_soft_placement: true\n",
      "graph_options {\n",
      "  rewrite_options {\n",
      "    meta_optimizer_iterations: ONE\n",
      "  }\n",
      "}\n",
      ", '_keep_checkpoint_max': 5, '_keep_checkpoint_every_n_hours': 10000, '_log_step_count_steps': 100, '_train_distribute': None, '_device_fn': None, '_protocol': None, '_eval_distribute': None, '_experimental_distribute': None, '_service': None, '_cluster_spec': <tensorflow.python.training.server_lib.ClusterSpec object at 0x7f2bac64f860>, '_task_type': 'worker', '_task_id': 0, '_global_id_in_cluster': 0, '_master': '', '_evaluation_master': '', '_is_chief': True, '_num_ps_replicas': 0, '_num_worker_replicas': 1}\n",
      "INFO:tensorflow:Calling model_fn.\n",
      "INFO:tensorflow:Done calling model_fn.\n",
      "INFO:tensorflow:Create CheckpointSaverHook.\n",
      "INFO:tensorflow:Graph was finalized.\n",
      "INFO:tensorflow:Restoring parameters from models/bees/model.ckpt-200\n",
      "INFO:tensorflow:Running local_init_op.\n",
      "INFO:tensorflow:Done running local_init_op.\n",
      "INFO:tensorflow:Saving checkpoints for 200 into models/bees/model.ckpt.\n",
      "INFO:tensorflow:loss = 0.17117588222026825, step = 201\n",
      "INFO:tensorflow:Saving checkpoints for 250 into models/bees/model.ckpt.\n",
      "INFO:tensorflow:Loss for final step: 0.04525570943951607.\n",
      "Time taken to train: 285.07910895347595\n",
      "INFO:tensorflow:Calling model_fn.\n",
      "INFO:tensorflow:Done calling model_fn.\n",
      "INFO:tensorflow:Starting evaluation at 2019-03-28-13:04:22\n",
      "INFO:tensorflow:Graph was finalized.\n",
      "INFO:tensorflow:Restoring parameters from models/bees/model.ckpt-250\n",
      "INFO:tensorflow:Running local_init_op.\n",
      "INFO:tensorflow:Done running local_init_op.\n",
      "INFO:tensorflow:Finished evaluation at 2019-03-28-13:04:30\n",
      "INFO:tensorflow:Saving dict for global step 250: accuracy = 0.8912037, global_step = 250, loss = 0.3921764\n",
      "INFO:tensorflow:Saving 'checkpoint_path' summary for global step 250: models/bees/model.ckpt-250\n",
      "{'accuracy': 0.8912037, 'loss': 0.3921764, 'global_step': 250}\n",
      "INFO:tensorflow:Calling model_fn.\n",
      "INFO:tensorflow:Done calling model_fn.\n",
      "INFO:tensorflow:Graph was finalized.\n",
      "INFO:tensorflow:Restoring parameters from models/bees/model.ckpt-250\n",
      "INFO:tensorflow:Running local_init_op.\n",
      "INFO:tensorflow:Done running local_init_op.\n",
      "final eval!\n",
      "INFO:tensorflow:Using default config.\n",
      "INFO:tensorflow:Using config: {'_model_dir': 'models/bees', '_tf_random_seed': None, '_save_summary_steps': 100, '_save_checkpoints_steps': None, '_save_checkpoints_secs': 600, '_session_config': allow_soft_placement: true\n",
      "graph_options {\n",
      "  rewrite_options {\n",
      "    meta_optimizer_iterations: ONE\n",
      "  }\n",
      "}\n",
      ", '_keep_checkpoint_max': 5, '_keep_checkpoint_every_n_hours': 10000, '_log_step_count_steps': 100, '_train_distribute': None, '_device_fn': None, '_protocol': None, '_eval_distribute': None, '_experimental_distribute': None, '_service': None, '_cluster_spec': <tensorflow.python.training.server_lib.ClusterSpec object at 0x7f2bb5820f28>, '_task_type': 'worker', '_task_id': 0, '_global_id_in_cluster': 0, '_master': '', '_evaluation_master': '', '_is_chief': True, '_num_ps_replicas': 0, '_num_worker_replicas': 1}\n",
      "INFO:tensorflow:Calling model_fn.\n",
      "INFO:tensorflow:Done calling model_fn.\n",
      "INFO:tensorflow:Create CheckpointSaverHook.\n",
      "INFO:tensorflow:Graph was finalized.\n",
      "INFO:tensorflow:Restoring parameters from models/bees/model.ckpt-250\n",
      "INFO:tensorflow:Running local_init_op.\n",
      "INFO:tensorflow:Done running local_init_op.\n",
      "INFO:tensorflow:Saving checkpoints for 250 into models/bees/model.ckpt.\n",
      "INFO:tensorflow:loss = 0.03934095799922943, step = 251\n",
      "INFO:tensorflow:Saving checkpoints for 300 into models/bees/model.ckpt.\n",
      "INFO:tensorflow:Loss for final step: 0.055189456790685654.\n",
      "Time taken to train: 298.9070551395416\n",
      "INFO:tensorflow:Calling model_fn.\n",
      "INFO:tensorflow:Done calling model_fn.\n",
      "INFO:tensorflow:Starting evaluation at 2019-03-28-13:09:37\n",
      "INFO:tensorflow:Graph was finalized.\n",
      "INFO:tensorflow:Restoring parameters from models/bees/model.ckpt-300\n",
      "INFO:tensorflow:Running local_init_op.\n",
      "INFO:tensorflow:Done running local_init_op.\n",
      "INFO:tensorflow:Finished evaluation at 2019-03-28-13:09:46\n",
      "INFO:tensorflow:Saving dict for global step 300: accuracy = 0.8657407, global_step = 300, loss = 0.522295\n",
      "INFO:tensorflow:Saving 'checkpoint_path' summary for global step 300: models/bees/model.ckpt-300\n",
      "{'accuracy': 0.8657407, 'loss': 0.522295, 'global_step': 300}\n",
      "INFO:tensorflow:Calling model_fn.\n",
      "INFO:tensorflow:Done calling model_fn.\n",
      "INFO:tensorflow:Graph was finalized.\n",
      "INFO:tensorflow:Restoring parameters from models/bees/model.ckpt-300\n",
      "INFO:tensorflow:Running local_init_op.\n",
      "INFO:tensorflow:Done running local_init_op.\n",
      "final eval!\n",
      "INFO:tensorflow:Using default config.\n",
      "INFO:tensorflow:Using config: {'_model_dir': 'models/bees', '_tf_random_seed': None, '_save_summary_steps': 100, '_save_checkpoints_steps': None, '_save_checkpoints_secs': 600, '_session_config': allow_soft_placement: true\n",
      "graph_options {\n",
      "  rewrite_options {\n",
      "    meta_optimizer_iterations: ONE\n",
      "  }\n",
      "}\n",
      ", '_keep_checkpoint_max': 5, '_keep_checkpoint_every_n_hours': 10000, '_log_step_count_steps': 100, '_train_distribute': None, '_device_fn': None, '_protocol': None, '_eval_distribute': None, '_experimental_distribute': None, '_service': None, '_cluster_spec': <tensorflow.python.training.server_lib.ClusterSpec object at 0x7f2bb56f4320>, '_task_type': 'worker', '_task_id': 0, '_global_id_in_cluster': 0, '_master': '', '_evaluation_master': '', '_is_chief': True, '_num_ps_replicas': 0, '_num_worker_replicas': 1}\n",
      "INFO:tensorflow:Calling model_fn.\n",
      "INFO:tensorflow:Done calling model_fn.\n",
      "INFO:tensorflow:Create CheckpointSaverHook.\n",
      "INFO:tensorflow:Graph was finalized.\n",
      "INFO:tensorflow:Restoring parameters from models/bees/model.ckpt-300\n",
      "INFO:tensorflow:Running local_init_op.\n",
      "INFO:tensorflow:Done running local_init_op.\n",
      "INFO:tensorflow:Saving checkpoints for 300 into models/bees/model.ckpt.\n",
      "INFO:tensorflow:loss = 0.06866235285997391, step = 301\n",
      "INFO:tensorflow:Saving checkpoints for 350 into models/bees/model.ckpt.\n",
      "INFO:tensorflow:Loss for final step: 0.013056628406047821.\n",
      "Time taken to train: 296.71633672714233\n",
      "INFO:tensorflow:Calling model_fn.\n",
      "INFO:tensorflow:Done calling model_fn.\n",
      "INFO:tensorflow:Starting evaluation at 2019-03-28-13:14:52\n",
      "INFO:tensorflow:Graph was finalized.\n",
      "INFO:tensorflow:Restoring parameters from models/bees/model.ckpt-350\n",
      "INFO:tensorflow:Running local_init_op.\n",
      "INFO:tensorflow:Done running local_init_op.\n",
      "INFO:tensorflow:Finished evaluation at 2019-03-28-13:15:00\n",
      "INFO:tensorflow:Saving dict for global step 350: accuracy = 0.9050926, global_step = 350, loss = 0.46026778\n",
      "INFO:tensorflow:Saving 'checkpoint_path' summary for global step 350: models/bees/model.ckpt-350\n",
      "{'accuracy': 0.9050926, 'loss': 0.46026778, 'global_step': 350}\n",
      "INFO:tensorflow:Calling model_fn.\n",
      "INFO:tensorflow:Done calling model_fn.\n",
      "INFO:tensorflow:Graph was finalized.\n",
      "INFO:tensorflow:Restoring parameters from models/bees/model.ckpt-350\n"
     ]
    },
    {
     "name": "stdout",
     "output_type": "stream",
     "text": [
      "INFO:tensorflow:Running local_init_op.\n",
      "INFO:tensorflow:Done running local_init_op.\n",
      "final eval!\n",
      "INFO:tensorflow:Using default config.\n",
      "INFO:tensorflow:Using config: {'_model_dir': 'models/bees', '_tf_random_seed': None, '_save_summary_steps': 100, '_save_checkpoints_steps': None, '_save_checkpoints_secs': 600, '_session_config': allow_soft_placement: true\n",
      "graph_options {\n",
      "  rewrite_options {\n",
      "    meta_optimizer_iterations: ONE\n",
      "  }\n",
      "}\n",
      ", '_keep_checkpoint_max': 5, '_keep_checkpoint_every_n_hours': 10000, '_log_step_count_steps': 100, '_train_distribute': None, '_device_fn': None, '_protocol': None, '_eval_distribute': None, '_experimental_distribute': None, '_service': None, '_cluster_spec': <tensorflow.python.training.server_lib.ClusterSpec object at 0x7f2bb5498320>, '_task_type': 'worker', '_task_id': 0, '_global_id_in_cluster': 0, '_master': '', '_evaluation_master': '', '_is_chief': True, '_num_ps_replicas': 0, '_num_worker_replicas': 1}\n",
      "INFO:tensorflow:Calling model_fn.\n",
      "INFO:tensorflow:Done calling model_fn.\n",
      "INFO:tensorflow:Create CheckpointSaverHook.\n",
      "INFO:tensorflow:Graph was finalized.\n",
      "INFO:tensorflow:Restoring parameters from models/bees/model.ckpt-350\n",
      "INFO:tensorflow:Running local_init_op.\n",
      "INFO:tensorflow:Done running local_init_op.\n",
      "INFO:tensorflow:Saving checkpoints for 350 into models/bees/model.ckpt.\n",
      "INFO:tensorflow:loss = 0.07480403780937195, step = 351\n",
      "INFO:tensorflow:Saving checkpoints for 400 into models/bees/model.ckpt.\n",
      "INFO:tensorflow:Loss for final step: 0.005989598110318184.\n",
      "Time taken to train: 298.5931417942047\n",
      "INFO:tensorflow:Calling model_fn.\n",
      "INFO:tensorflow:Done calling model_fn.\n",
      "INFO:tensorflow:Starting evaluation at 2019-03-28-13:20:08\n",
      "INFO:tensorflow:Graph was finalized.\n",
      "INFO:tensorflow:Restoring parameters from models/bees/model.ckpt-400\n",
      "INFO:tensorflow:Running local_init_op.\n",
      "INFO:tensorflow:Done running local_init_op.\n",
      "INFO:tensorflow:Finished evaluation at 2019-03-28-13:20:17\n",
      "INFO:tensorflow:Saving dict for global step 400: accuracy = 0.8935185, global_step = 400, loss = 0.5560143\n",
      "INFO:tensorflow:Saving 'checkpoint_path' summary for global step 400: models/bees/model.ckpt-400\n",
      "{'accuracy': 0.8935185, 'loss': 0.5560143, 'global_step': 400}\n",
      "INFO:tensorflow:Calling model_fn.\n",
      "INFO:tensorflow:Done calling model_fn.\n",
      "INFO:tensorflow:Graph was finalized.\n",
      "INFO:tensorflow:Restoring parameters from models/bees/model.ckpt-400\n",
      "INFO:tensorflow:Running local_init_op.\n",
      "INFO:tensorflow:Done running local_init_op.\n",
      "final eval!\n",
      "INFO:tensorflow:Using default config.\n",
      "INFO:tensorflow:Using config: {'_model_dir': 'models/bees', '_tf_random_seed': None, '_save_summary_steps': 100, '_save_checkpoints_steps': None, '_save_checkpoints_secs': 600, '_session_config': allow_soft_placement: true\n",
      "graph_options {\n",
      "  rewrite_options {\n",
      "    meta_optimizer_iterations: ONE\n",
      "  }\n",
      "}\n",
      ", '_keep_checkpoint_max': 5, '_keep_checkpoint_every_n_hours': 10000, '_log_step_count_steps': 100, '_train_distribute': None, '_device_fn': None, '_protocol': None, '_eval_distribute': None, '_experimental_distribute': None, '_service': None, '_cluster_spec': <tensorflow.python.training.server_lib.ClusterSpec object at 0x7f2bac0a8ef0>, '_task_type': 'worker', '_task_id': 0, '_global_id_in_cluster': 0, '_master': '', '_evaluation_master': '', '_is_chief': True, '_num_ps_replicas': 0, '_num_worker_replicas': 1}\n",
      "INFO:tensorflow:Calling model_fn.\n",
      "INFO:tensorflow:Done calling model_fn.\n",
      "INFO:tensorflow:Create CheckpointSaverHook.\n",
      "INFO:tensorflow:Graph was finalized.\n",
      "INFO:tensorflow:Restoring parameters from models/bees/model.ckpt-400\n",
      "INFO:tensorflow:Running local_init_op.\n",
      "INFO:tensorflow:Done running local_init_op.\n",
      "INFO:tensorflow:Saving checkpoints for 400 into models/bees/model.ckpt.\n",
      "INFO:tensorflow:loss = 0.0052645266987383366, step = 401\n",
      "INFO:tensorflow:Saving checkpoints for 450 into models/bees/model.ckpt.\n",
      "INFO:tensorflow:Loss for final step: 0.01789386197924614.\n",
      "Time taken to train: 289.9935281276703\n",
      "INFO:tensorflow:Calling model_fn.\n",
      "INFO:tensorflow:Done calling model_fn.\n",
      "INFO:tensorflow:Starting evaluation at 2019-03-28-13:25:16\n",
      "INFO:tensorflow:Graph was finalized.\n",
      "INFO:tensorflow:Restoring parameters from models/bees/model.ckpt-450\n",
      "INFO:tensorflow:Running local_init_op.\n",
      "INFO:tensorflow:Done running local_init_op.\n",
      "INFO:tensorflow:Finished evaluation at 2019-03-28-13:25:24\n",
      "INFO:tensorflow:Saving dict for global step 450: accuracy = 0.8981481, global_step = 450, loss = 0.6530049\n",
      "INFO:tensorflow:Saving 'checkpoint_path' summary for global step 450: models/bees/model.ckpt-450\n",
      "{'accuracy': 0.8981481, 'loss': 0.6530049, 'global_step': 450}\n",
      "INFO:tensorflow:Calling model_fn.\n",
      "INFO:tensorflow:Done calling model_fn.\n",
      "INFO:tensorflow:Graph was finalized.\n",
      "INFO:tensorflow:Restoring parameters from models/bees/model.ckpt-450\n",
      "INFO:tensorflow:Running local_init_op.\n",
      "INFO:tensorflow:Done running local_init_op.\n",
      "final eval!\n",
      "INFO:tensorflow:Using default config.\n",
      "INFO:tensorflow:Using config: {'_model_dir': 'models/bees', '_tf_random_seed': None, '_save_summary_steps': 100, '_save_checkpoints_steps': None, '_save_checkpoints_secs': 600, '_session_config': allow_soft_placement: true\n",
      "graph_options {\n",
      "  rewrite_options {\n",
      "    meta_optimizer_iterations: ONE\n",
      "  }\n",
      "}\n",
      ", '_keep_checkpoint_max': 5, '_keep_checkpoint_every_n_hours': 10000, '_log_step_count_steps': 100, '_train_distribute': None, '_device_fn': None, '_protocol': None, '_eval_distribute': None, '_experimental_distribute': None, '_service': None, '_cluster_spec': <tensorflow.python.training.server_lib.ClusterSpec object at 0x7f2bac7d4ef0>, '_task_type': 'worker', '_task_id': 0, '_global_id_in_cluster': 0, '_master': '', '_evaluation_master': '', '_is_chief': True, '_num_ps_replicas': 0, '_num_worker_replicas': 1}\n",
      "INFO:tensorflow:Calling model_fn.\n",
      "INFO:tensorflow:Done calling model_fn.\n",
      "INFO:tensorflow:Create CheckpointSaverHook.\n",
      "INFO:tensorflow:Graph was finalized.\n",
      "INFO:tensorflow:Restoring parameters from models/bees/model.ckpt-450\n",
      "INFO:tensorflow:Running local_init_op.\n",
      "INFO:tensorflow:Done running local_init_op.\n",
      "INFO:tensorflow:Saving checkpoints for 450 into models/bees/model.ckpt.\n",
      "INFO:tensorflow:loss = 0.0067168171517550945, step = 451\n",
      "INFO:tensorflow:Saving checkpoints for 500 into models/bees/model.ckpt.\n",
      "INFO:tensorflow:Loss for final step: 0.025034504011273384.\n",
      "Time taken to train: 285.88440012931824\n",
      "INFO:tensorflow:Calling model_fn.\n",
      "INFO:tensorflow:Done calling model_fn.\n",
      "INFO:tensorflow:Starting evaluation at 2019-03-28-13:30:19\n",
      "INFO:tensorflow:Graph was finalized.\n",
      "INFO:tensorflow:Restoring parameters from models/bees/model.ckpt-500\n",
      "INFO:tensorflow:Running local_init_op.\n",
      "INFO:tensorflow:Done running local_init_op.\n",
      "INFO:tensorflow:Finished evaluation at 2019-03-28-13:30:28\n",
      "INFO:tensorflow:Saving dict for global step 500: accuracy = 0.8634259, global_step = 500, loss = 0.62587315\n",
      "INFO:tensorflow:Saving 'checkpoint_path' summary for global step 500: models/bees/model.ckpt-500\n",
      "{'accuracy': 0.8634259, 'loss': 0.62587315, 'global_step': 500}\n",
      "INFO:tensorflow:Calling model_fn.\n",
      "INFO:tensorflow:Done calling model_fn.\n",
      "INFO:tensorflow:Graph was finalized.\n",
      "INFO:tensorflow:Restoring parameters from models/bees/model.ckpt-500\n",
      "INFO:tensorflow:Running local_init_op.\n",
      "INFO:tensorflow:Done running local_init_op.\n"
     ]
    }
   ],
   "source": [
    "kf = KFold(n_splits=10, shuffle=True,random_state=22)\n",
    "classList = []\n",
    "for i in pathList:\n",
    "    classList.append(beeTypes[i])\n",
    "\n",
    "#mapping the classList items to integers\n",
    "y = []\n",
    "for i in classList:\n",
    "    y.append((list(labels)).index(i))\n",
    "\n",
    "    \n",
    "#defining a list for evaluation of the performance of the net\n",
    "evaly = []\n",
    "\n",
    "from sklearn.model_selection import train_test_split\n",
    "kftrainX, valX, kftrainy, valy = train_test_split(resized, y, test_size=0.2, random_state=42)\n",
    "evaly = valy\n",
    "\n",
    "#using kfold on the split version of the network, final eval will be done using the validation set.\n",
    "\n",
    "for trainIndex, testIndex in kf.split(kftrainy):\n",
    "\n",
    "    trainX = []\n",
    "    trainy = []\n",
    "    testX = []\n",
    "    testy = []\n",
    "    for i in trainIndex:\n",
    "        trainX.append(kftrainX[i])\n",
    "        trainy.append(kftrainy[i])\n",
    "    for i in testIndex:\n",
    "        testX.append(kftrainX[i])\n",
    "        testy.append(kftrainy[i])\n",
    "        #evaly.append(y[i])\n",
    "    \n",
    "    imglisttrain = np.asarray(trainX, dtype=np.float64)\n",
    "    imglisttest = np.asarray(testX, dtype=np.float64)\n",
    "    pathlisttest = np.asarray(testy, dtype=np.int32)\n",
    "    pathlisttrain = np.asarray(trainy, dtype=np.int32)\n",
    "    if counter < 9:\n",
    "        runNN(imglisttrain, imglisttest, pathlisttrain, pathlisttest)\n",
    "    else:\n",
    "        valX = np.asarray(valX, dtype=np.float64)\n",
    "        valy = np.asarray(valy, dtype=np.int32)\n",
    "        print(\"final eval!\")\n",
    "        runNN(imglisttrain, valX, pathlisttrain, valy)\n",
    "        \n"
   ]
  },
  {
   "cell_type": "markdown",
   "metadata": {},
   "source": [
    "as seen above, the model scores an accuracy of 86 percent with bees it has never seen before, pretty impressive. let's do some more classification, this time with a random forest to compare if the results are very different at all."
   ]
  },
  {
   "cell_type": "markdown",
   "metadata": {},
   "source": [
    "i used sklearns random forest, because it's easy to set up and reliable."
   ]
  },
  {
   "cell_type": "code",
   "execution_count": 32,
   "metadata": {},
   "outputs": [
    {
     "name": "stderr",
     "output_type": "stream",
     "text": [
      "/home/tim/anaconda3/lib/python3.6/site-packages/sklearn/ensemble/forest.py:246: FutureWarning: The default value of n_estimators will change from 10 in version 0.20 to 100 in 0.22.\n",
      "  \"10 in version 0.20 to 100 in 0.22.\", FutureWarning)\n"
     ]
    },
    {
     "name": "stdout",
     "output_type": "stream",
     "text": [
      "Random forest score:\n",
      "0.8101851851851852\n"
     ]
    }
   ],
   "source": [
    "from sklearn.model_selection import train_test_split\n",
    "from sklearn.ensemble import RandomForestClassifier\n",
    "from sklearn.metrics import accuracy_score\n",
    "\n",
    "X_train, X_test, y_train, y_test = train_test_split(resized, y, test_size=0.2, random_state=42)\n",
    "X_train_flattened = []\n",
    "X_test_flattened = []\n",
    "for i in X_train:\n",
    "    X_train_flattened.append(i.flatten('F'))\n",
    "for i in X_test:\n",
    "    X_test_flattened.append(i.flatten('F'))\n",
    "    \n",
    "rfc = RandomForestClassifier()\n",
    "rfc = rfc.fit(X_train_flattened,y_train)\n",
    "predictions = rfc.predict(X_test_flattened)\n",
    "\n",
    "print(\"Random forest score:\")\n",
    "print(accuracy_score(y_test, predictions))"
   ]
  },
  {
   "cell_type": "markdown",
   "metadata": {},
   "source": [
    "A little lower than the CNN. Now for some assessment of the models; starting with a classification report of the random forest:"
   ]
  },
  {
   "cell_type": "code",
   "execution_count": 33,
   "metadata": {},
   "outputs": [
    {
     "name": "stdout",
     "output_type": "stream",
     "text": [
      "              precision    recall  f1-score   support\n",
      "\n",
      "           0       0.68      0.65      0.66        88\n",
      "           1       0.65      0.74      0.69       102\n",
      "           2       0.96      0.95      0.95       100\n",
      "           3       0.89      0.94      0.91        84\n",
      "           4       0.98      0.76      0.85        58\n",
      "\n",
      "   micro avg       0.81      0.81      0.81       432\n",
      "   macro avg       0.83      0.81      0.82       432\n",
      "weighted avg       0.82      0.81      0.81       432\n",
      "\n",
      "corresponding labels:\n",
      "{'Varroa, Small Hive Beetles', 'few varrao, hive beetles', 'ant problems', 'healthy', 'hive being robbed'}\n"
     ]
    }
   ],
   "source": [
    "from sklearn.metrics import classification_report\n",
    "print(classification_report(y_test, predictions))\n",
    "print(\"corresponding labels:\")\n",
    "print(labels)"
   ]
  },
  {
   "cell_type": "markdown",
   "metadata": {},
   "source": [
    "as seen above, the random forest model scores poorly on the classification of 'few varrao, hive beetles' and 'Varroa, Small Hive Beetles'. The average score is good but that's mostly thanks to the strong classification of the 'healthy' and 'ant problems' labels."
   ]
  },
  {
   "cell_type": "markdown",
   "metadata": {},
   "source": [
    "let's see what the confusion matrices of the neural net look like;"
   ]
  },
  {
   "cell_type": "code",
   "execution_count": 36,
   "metadata": {},
   "outputs": [
    {
     "name": "stdout",
     "output_type": "stream",
     "text": [
      "              precision    recall  f1-score   support\n",
      "\n",
      "           0       0.77      0.90      0.83        88\n",
      "           1       0.81      0.77      0.79       102\n",
      "           2       1.00      0.87      0.93       100\n",
      "           3       0.94      0.92      0.93        84\n",
      "           4       0.82      0.88      0.85        58\n",
      "\n",
      "   micro avg       0.86      0.86      0.86       432\n",
      "   macro avg       0.87      0.87      0.87       432\n",
      "weighted avg       0.87      0.86      0.86       432\n",
      "\n"
     ]
    }
   ],
   "source": [
    "#grabbing the last 432 tags from the outputNN list, as these hold the labels that correspond to the evaly list.\n",
    "print(classification_report(evaly, outputNN[-len(evaly):]))"
   ]
  },
  {
   "cell_type": "markdown",
   "metadata": {},
   "source": [
    "an impressive improvement in comparison with the random forest model. But even though the model performs significantly better, you can still tell that the first 2 tags are not as strongly classified as the others. however, they are still quite a ways above random."
   ]
  },
  {
   "cell_type": "code",
   "execution_count": null,
   "metadata": {},
   "outputs": [],
   "source": []
  }
 ],
 "metadata": {
  "kernelspec": {
   "display_name": "Python 3",
   "language": "python",
   "name": "python3"
  },
  "language_info": {
   "codemirror_mode": {
    "name": "ipython",
    "version": 3
   },
   "file_extension": ".py",
   "mimetype": "text/x-python",
   "name": "python",
   "nbconvert_exporter": "python",
   "pygments_lexer": "ipython3",
   "version": "3.6.8"
  }
 },
 "nbformat": 4,
 "nbformat_minor": 2
}
